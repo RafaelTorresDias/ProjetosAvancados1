{
  "nbformat": 4,
  "nbformat_minor": 0,
  "metadata": {
    "colab": {
      "name": "Aula Python 09-04-19.ipynb",
      "version": "0.3.2",
      "provenance": [],
      "collapsed_sections": [],
      "include_colab_link": true
    },
    "kernelspec": {
      "name": "python3",
      "display_name": "Python 3"
    }
  },
  "cells": [
    {
      "cell_type": "markdown",
      "metadata": {
        "id": "view-in-github",
        "colab_type": "text"
      },
      "source": [
        "<a href=\"https://colab.research.google.com/github/RafaelTorresDias/ProjetosAvancados1/blob/master/Aula_Python_09_04_19.ipynb\" target=\"_parent\"><img src=\"https://colab.research.google.com/assets/colab-badge.svg\" alt=\"Open In Colab\"/></a>"
      ]
    },
    {
      "metadata": {
        "id": "ykdie-E5gibq",
        "colab_type": "text"
      },
      "cell_type": "markdown",
      "source": [
        "Trabalhar com strings e dicionários, antes vimos listas e funções. Vamos começar com strings é parecido como lidamos com listas entretanto as strings são imutáveis"
      ]
    },
    {
      "metadata": {
        "id": "YDkEIgFsgi5B",
        "colab_type": "code",
        "outputId": "a137e7fd-372b-4ce3-86d6-52f208162dd7",
        "colab": {
          "base_uri": "https://localhost:8080/",
          "height": 34
        }
      },
      "cell_type": "code",
      "source": [
        "S = \"hello world\"\n",
        "S"
      ],
      "execution_count": 0,
      "outputs": [
        {
          "output_type": "execute_result",
          "data": {
            "text/plain": [
              "'hello world'"
            ]
          },
          "metadata": {
            "tags": []
          },
          "execution_count": 8
        }
      ]
    },
    {
      "metadata": {
        "id": "KMh6nTtHhWLK",
        "colab_type": "code",
        "outputId": "e0baa75c-f6d8-4018-eb9e-41fe9a3bd100",
        "colab": {
          "base_uri": "https://localhost:8080/",
          "height": 34
        }
      },
      "cell_type": "code",
      "source": [
        "S[0] #acessar índices nas strings\n",
        "S[1]\n",
        "#A[0] = \"a\" # é imutável Vai dar erro\n",
        "\n"
      ],
      "execution_count": 0,
      "outputs": [
        {
          "output_type": "execute_result",
          "data": {
            "text/plain": [
              "'e'"
            ]
          },
          "metadata": {
            "tags": []
          },
          "execution_count": 9
        }
      ]
    },
    {
      "metadata": {
        "id": "zib2EYeGgjWJ",
        "colab_type": "text"
      },
      "cell_type": "markdown",
      "source": [
        "Transformar uma string em lista"
      ]
    },
    {
      "metadata": {
        "id": "xJhDFqCKiEQA",
        "colab_type": "code",
        "outputId": "0ed3b663-89d3-46d1-aeaa-dd7e41d8be2f",
        "colab": {
          "base_uri": "https://localhost:8080/",
          "height": 34
        }
      },
      "cell_type": "code",
      "source": [
        "l = list(S)\n",
        "l #lista com elementos distintos em cada posição incluindo o espaço"
      ],
      "execution_count": 0,
      "outputs": [
        {
          "output_type": "execute_result",
          "data": {
            "text/plain": [
              "['h', 'e', 'l', 'l', 'o', ' ', 'w', 'o', 'r', 'l', 'd']"
            ]
          },
          "metadata": {
            "tags": []
          },
          "execution_count": 10
        }
      ]
    },
    {
      "metadata": {
        "id": "uPH8M99_ia_o",
        "colab_type": "text"
      },
      "cell_type": "markdown",
      "source": [
        "Operadores que retornam valores falsos ou verdadeiros"
      ]
    },
    {
      "metadata": {
        "id": "Ztv8zJtkiSjk",
        "colab_type": "code",
        "outputId": "d6c98abf-f6b2-4380-e6ef-8ebd3d6c78a3",
        "colab": {
          "base_uri": "https://localhost:8080/",
          "height": 34
        }
      },
      "cell_type": "code",
      "source": [
        "nome = \"Informatica Biomedica\"\n",
        "nome"
      ],
      "execution_count": 0,
      "outputs": [
        {
          "output_type": "execute_result",
          "data": {
            "text/plain": [
              "'Informatica Biomedica'"
            ]
          },
          "metadata": {
            "tags": []
          },
          "execution_count": 11
        }
      ]
    },
    {
      "metadata": {
        "id": "ulE89R5jifVf",
        "colab_type": "code",
        "outputId": "b213e1d0-d856-4aca-cb3c-96e32d3450ee",
        "colab": {
          "base_uri": "https://localhost:8080/",
          "height": 34
        }
      },
      "cell_type": "code",
      "source": [
        "#Identificar se uma string começa com alguma substring\n",
        "nome.startswith(\"Informatica\") # essa string nome começa com informática"
      ],
      "execution_count": 0,
      "outputs": [
        {
          "output_type": "execute_result",
          "data": {
            "text/plain": [
              "True"
            ]
          },
          "metadata": {
            "tags": []
          },
          "execution_count": 15
        }
      ]
    },
    {
      "metadata": {
        "id": "Kxm1psXGi2C8",
        "colab_type": "code",
        "colab": {}
      },
      "cell_type": "code",
      "source": [
        "S = \"O rato roeu a roupa do rei de Roma\""
      ],
      "execution_count": 0,
      "outputs": []
    },
    {
      "metadata": {
        "id": "pOcXLYSGjQoM",
        "colab_type": "code",
        "outputId": "0326e75f-812d-455b-db68-51d1610e3e5c",
        "colab": {
          "base_uri": "https://localhost:8080/",
          "height": 34
        }
      },
      "cell_type": "code",
      "source": [
        "S.lower() #retorna tudo minúsculo"
      ],
      "execution_count": 0,
      "outputs": [
        {
          "output_type": "execute_result",
          "data": {
            "text/plain": [
              "'o rato roeu a roupa do rei de roma'"
            ]
          },
          "metadata": {
            "tags": []
          },
          "execution_count": 19
        }
      ]
    },
    {
      "metadata": {
        "id": "fMq3h6TEjX4c",
        "colab_type": "code",
        "outputId": "9119786e-4788-48e4-edfd-1702384c044b",
        "colab": {
          "base_uri": "https://localhost:8080/",
          "height": 34
        }
      },
      "cell_type": "code",
      "source": [
        "S.upper() #retorna tudo maiúsculo"
      ],
      "execution_count": 0,
      "outputs": [
        {
          "output_type": "execute_result",
          "data": {
            "text/plain": [
              "'O RATO ROEU A ROUPA DO REI DE ROMA'"
            ]
          },
          "metadata": {
            "tags": []
          },
          "execution_count": 20
        }
      ]
    },
    {
      "metadata": {
        "id": "gwWKXgyYjgyM",
        "colab_type": "code",
        "outputId": "50c3b788-c709-4af1-ef8f-3f940139adfb",
        "colab": {
          "base_uri": "https://localhost:8080/",
          "height": 34
        }
      },
      "cell_type": "code",
      "source": [
        "S.lower().startswith(\"o rato\") # forçar para comparar o conteúdo"
      ],
      "execution_count": 0,
      "outputs": [
        {
          "output_type": "execute_result",
          "data": {
            "text/plain": [
              "'O rato roeu a roupa do rei de Roma'"
            ]
          },
          "metadata": {
            "tags": []
          },
          "execution_count": 23
        }
      ]
    },
    {
      "metadata": {
        "id": "jLTQCWv9kBJc",
        "colab_type": "code",
        "outputId": "37dbd467-a758-43b7-a418-8d9c5b04a549",
        "colab": {
          "base_uri": "https://localhost:8080/",
          "height": 34
        }
      },
      "cell_type": "code",
      "source": [
        "#Como verificar se tem um valor em uma lista, usando in\n",
        "\"Informatica\" in nome # procurando se uma substring está contida em qualquer lugar"
      ],
      "execution_count": 0,
      "outputs": [
        {
          "output_type": "execute_result",
          "data": {
            "text/plain": [
              "True"
            ]
          },
          "metadata": {
            "tags": []
          },
          "execution_count": 72
        }
      ]
    },
    {
      "metadata": {
        "id": "pM7WPlQqkt5b",
        "colab_type": "code",
        "outputId": "ea772f63-8272-48c1-98a4-90857c54214d",
        "colab": {
          "base_uri": "https://localhost:8080/",
          "height": 34
        }
      },
      "cell_type": "code",
      "source": [
        "\"BIOMEDICA\" in nome.upper()"
      ],
      "execution_count": 0,
      "outputs": [
        {
          "output_type": "execute_result",
          "data": {
            "text/plain": [
              "True"
            ]
          },
          "metadata": {
            "tags": []
          },
          "execution_count": 29
        }
      ]
    },
    {
      "metadata": {
        "id": "1hgrzrD3kwyT",
        "colab_type": "code",
        "outputId": "8afbb173-5223-421d-92d2-03980ec424e4",
        "colab": {
          "base_uri": "https://localhost:8080/",
          "height": 133
        }
      },
      "cell_type": "code",
      "source": [
        "t = \"um tigre, dois tigres, tres tigres\" #string com vírgula e espaço e vamos dar uma procura\n",
        "print (t.count(\"tigre\")) #contar quantas vezes tem a palavra tigre\n",
        "print (t.count(\"t\"))\n",
        "print (t.count(\"w\")) #elemento que não tem\n",
        "print (t.find(\" \")) # está na posição 2\n",
        "print (t.rfind(\" \")) #ultimo caracter em branco está na posição 27\n",
        "print (t.find(\"tigre\")) #cuidado com plural e singular\n",
        "print (t.rfind(\"tigre\")) # "
      ],
      "execution_count": 0,
      "outputs": [
        {
          "output_type": "stream",
          "text": [
            "3\n",
            "4\n",
            "0\n",
            "2\n",
            "27\n",
            "3\n",
            "28\n"
          ],
          "name": "stdout"
        }
      ]
    },
    {
      "metadata": {
        "id": "EgLPEY66nUpk",
        "colab_type": "code",
        "outputId": "0df92ab2-1905-4b62-8835-3db412f58757",
        "colab": {
          "base_uri": "https://localhost:8080/",
          "height": 33
        }
      },
      "cell_type": "code",
      "source": [
        "t.find(\"tigre\",6) #posso dar uma posição de início para ele\n",
        "t.find(\"tigre\",30) #vai retornar -1 pra dizer que não existe esse índice\n",
        "t.find(\"tigre\",16,6) #podemos delimitar as posições"
      ],
      "execution_count": 0,
      "outputs": [
        {
          "output_type": "execute_result",
          "data": {
            "text/plain": [
              "-1"
            ]
          },
          "metadata": {
            "tags": []
          },
          "execution_count": 48
        }
      ]
    },
    {
      "metadata": {
        "id": "vpQ8NUgml237",
        "colab_type": "code",
        "outputId": "87ee9880-9d59-47e1-d7bc-fc8a0d93ba58",
        "colab": {
          "base_uri": "https://localhost:8080/",
          "height": 33
        }
      },
      "cell_type": "code",
      "source": [
        "S = \"hello world\"\n",
        "S.find(\"rld\") # procurando onde a substring"
      ],
      "execution_count": 0,
      "outputs": [
        {
          "output_type": "execute_result",
          "data": {
            "text/plain": [
              "8"
            ]
          },
          "metadata": {
            "tags": []
          },
          "execution_count": 39
        }
      ]
    },
    {
      "metadata": {
        "id": "2thKX5h2mPRb",
        "colab_type": "code",
        "outputId": "d17b19b5-90f3-425c-d965-040bb22ad833",
        "colab": {
          "base_uri": "https://localhost:8080/",
          "height": 33
        }
      },
      "cell_type": "code",
      "source": [
        "nome[0:nome.find(\" \")] #Pegar a primeira palavra levando em consideração o espaço"
      ],
      "execution_count": 0,
      "outputs": [
        {
          "output_type": "execute_result",
          "data": {
            "text/plain": [
              "'Informatica'"
            ]
          },
          "metadata": {
            "tags": []
          },
          "execution_count": 41
        }
      ]
    },
    {
      "metadata": {
        "id": "QJ8MKZ42o_Ur",
        "colab_type": "text"
      },
      "cell_type": "markdown",
      "source": [
        "1- Escreva um código que lê duas strings. Verifique se a segunda ocorre dentro da primeira e imprima a posição de início. Testes:\n",
        "\n",
        "1a string: AABBEFAATT\n",
        "\n",
        "2a string: BE\n",
        "\n",
        "resultado: BE encontrado na posição 3 de AABBEFAATT\n",
        "\n"
      ]
    },
    {
      "metadata": {
        "id": "GnCb1BmRo__s",
        "colab_type": "code",
        "outputId": "3cdfc437-7416-4cae-88e2-42f81bc48e9a",
        "colab": {
          "base_uri": "https://localhost:8080/",
          "height": 100
        }
      },
      "cell_type": "code",
      "source": [
        "print('Digite a primeira string: ')\n",
        "x = input()\n",
        "print('Digite a segunda string: ')\n",
        "y = input()\n",
        "print(y,\"encontrado na posição\",x.find(y), \"de\", x )\n"
      ],
      "execution_count": 0,
      "outputs": [
        {
          "output_type": "stream",
          "text": [
            "Digite a primeira string: \n",
            "AABBEFAATT\n",
            "Digite a segunda string: \n",
            "BE\n",
            "BE encontrado na posição 3 de AABBEFAATT\n"
          ],
          "name": "stdout"
        }
      ]
    },
    {
      "metadata": {
        "id": "gYQvtHl3qVWj",
        "colab_type": "text"
      },
      "cell_type": "markdown",
      "source": [
        "2- Escreva um progaram que lê duas strings e gere uma terceira com os caracteres comuns às duas strings lidas. Teste:\n",
        "\n",
        "1a string: AAACTBF\n",
        "\n",
        "2a string: CBT\n",
        "\n",
        "resultado: CBT"
      ]
    },
    {
      "metadata": {
        "id": "PbHlxhKDqcLl",
        "colab_type": "code",
        "outputId": "6f7612b9-44ba-4e08-9b13-f843b57e63af",
        "colab": {
          "base_uri": "https://localhost:8080/",
          "height": 136
        }
      },
      "cell_type": "code",
      "source": [
        "lista = []\n",
        "print('Digite a primeira string: ')\n",
        "x = input()\n",
        "print('Digite a segunda string: ')\n",
        "y = input()\n",
        "\n",
        "for i in y:\n",
        "  if (i in x) == True:\n",
        "    print(i)\n",
        "    lista.append(i)\n",
        "\n",
        "print(\"Resultado: \",lista)\n"
      ],
      "execution_count": 0,
      "outputs": [
        {
          "output_type": "stream",
          "text": [
            "Digite a primeira string: \n",
            "ABACATEAAA\n",
            "Digite a segunda string: \n",
            "AB\n",
            "A\n",
            "B\n",
            "Resultado:  ['A', 'B']\n"
          ],
          "name": "stdout"
        }
      ]
    },
    {
      "metadata": {
        "id": "vJIdMTM0H_Z1",
        "colab_type": "text"
      },
      "cell_type": "markdown",
      "source": [
        "3- Escreva um programa que lê uma strings e imprima quantas vezes cada caracter aparece nessa string.\n",
        "\n",
        "String: TTAAC\n",
        "\n",
        "Resultado: T: 2x, A: 2x, C: 1x"
      ]
    },
    {
      "metadata": {
        "id": "LMgkHTzHKCSl",
        "colab_type": "code",
        "outputId": "4af7b01d-6fb3-4f86-b029-58d31d9e049f",
        "colab": {
          "base_uri": "https://localhost:8080/",
          "height": 68
        }
      },
      "cell_type": "code",
      "source": [
        "print(\"Digite algo\")\n",
        "x = input()\n",
        "contador = {}\n",
        "for char in x:\n",
        "    contador.setdefault(char, 0)\n",
        "    contador[char] += 1\n",
        "print(contador)"
      ],
      "execution_count": 0,
      "outputs": [
        {
          "output_type": "stream",
          "text": [
            "Digite algo\n",
            "Rafael Torres\n",
            "{'R': 1, 'a': 2, 'f': 1, 'e': 2, 'l': 1, ' ': 1, 'T': 1, 'o': 1, 'r': 2, 's': 1}\n"
          ],
          "name": "stdout"
        }
      ]
    },
    {
      "metadata": {
        "id": "xowindtHv9it",
        "colab_type": "text"
      },
      "cell_type": "markdown",
      "source": [
        "*Outra estrutura muio usada são os dicionários, que trabalha com elementos chave e valor. Para uma chame eu tenho um valor associado*"
      ]
    },
    {
      "metadata": {
        "id": "rpQWIFXswLTr",
        "colab_type": "code",
        "outputId": "cf5595b4-4230-4318-b1cf-86b4ffc55a9a",
        "colab": {
          "base_uri": "https://localhost:8080/",
          "height": 33
        }
      },
      "cell_type": "code",
      "source": [
        "tabela = {\"Alface\": 0.45, \n",
        "          \"Batata\": 1.20, \n",
        "          \"Tomate\": 2.30, \n",
        "          \"Feijão\": 1.50}\n",
        "tabela"
      ],
      "execution_count": 0,
      "outputs": [
        {
          "output_type": "execute_result",
          "data": {
            "text/plain": [
              "{'Alface': 0.45, 'Batata': 1.2, 'Feijão': 1.5, 'Tomate': 2.3}"
            ]
          },
          "metadata": {
            "tags": []
          },
          "execution_count": 80
        }
      ]
    },
    {
      "metadata": {
        "id": "c-5CmIf4w4eG",
        "colab_type": "code",
        "outputId": "2fe28e17-e9ee-4e54-cac9-5acaa1754dc3",
        "colab": {
          "base_uri": "https://localhost:8080/",
          "height": 33
        }
      },
      "cell_type": "code",
      "source": [
        "#Quero saber qual o valor de uma chave\n",
        "tabela[\"Alface\"]"
      ],
      "execution_count": 0,
      "outputs": [
        {
          "output_type": "execute_result",
          "data": {
            "text/plain": [
              "0.45"
            ]
          },
          "metadata": {
            "tags": []
          },
          "execution_count": 81
        }
      ]
    },
    {
      "metadata": {
        "id": "WT-QQfVgxDBW",
        "colab_type": "code",
        "outputId": "b2bb67d2-8c63-4eaa-dd6b-bbebcfb88e0e",
        "colab": {
          "base_uri": "https://localhost:8080/",
          "height": 33
        }
      },
      "cell_type": "code",
      "source": [
        "#Alterar o valor de uma dicionário\n",
        "tabela[\"Tomate\"]= 2.5\n",
        "tabela"
      ],
      "execution_count": 0,
      "outputs": [
        {
          "output_type": "execute_result",
          "data": {
            "text/plain": [
              "{'Alface': 0.45, 'Batata': 1.2, 'Feijão': 1.5, 'Tomate': 2.5}"
            ]
          },
          "metadata": {
            "tags": []
          },
          "execution_count": 89
        }
      ]
    },
    {
      "metadata": {
        "id": "D2FUjXsMxj8D",
        "colab_type": "code",
        "outputId": "15233082-4768-4910-b420-86e1faba617e",
        "colab": {
          "base_uri": "https://localhost:8080/",
          "height": 33
        }
      },
      "cell_type": "code",
      "source": [
        "#Alimentar a tabela, criaremos um elemento para o dicionário\n",
        "tabela[\"Cebola\"]= 1.20\n",
        "tabela"
      ],
      "execution_count": 0,
      "outputs": [
        {
          "output_type": "execute_result",
          "data": {
            "text/plain": [
              "{'Alface': 0.45, 'Batata': 1.2, 'Cebola': 1.2, 'Feijão': 1.5, 'Tomate': 2.5}"
            ]
          },
          "metadata": {
            "tags": []
          },
          "execution_count": 90
        }
      ]
    },
    {
      "metadata": {
        "id": "P6tWhjiUxwGK",
        "colab_type": "code",
        "outputId": "52a62f95-bae3-4184-bbff-1761c27d16a9",
        "colab": {
          "base_uri": "https://localhost:8080/",
          "height": 33
        }
      },
      "cell_type": "code",
      "source": [
        "\"Manga\" in tabela"
      ],
      "execution_count": 0,
      "outputs": [
        {
          "output_type": "execute_result",
          "data": {
            "text/plain": [
              "False"
            ]
          },
          "metadata": {
            "tags": []
          },
          "execution_count": 92
        }
      ]
    },
    {
      "metadata": {
        "id": "fwiSMGKsyT7S",
        "colab_type": "code",
        "outputId": "fa926f6e-ce77-4c01-b519-a2da75d1e023",
        "colab": {
          "base_uri": "https://localhost:8080/",
          "height": 33
        }
      },
      "cell_type": "code",
      "source": [
        "\"Cebola\" in tabela"
      ],
      "execution_count": 0,
      "outputs": [
        {
          "output_type": "execute_result",
          "data": {
            "text/plain": [
              "True"
            ]
          },
          "metadata": {
            "tags": []
          },
          "execution_count": 93
        }
      ]
    },
    {
      "metadata": {
        "id": "JnfBBK2QyX0h",
        "colab_type": "code",
        "outputId": "498c6ab6-0ebf-4617-956b-fd3126a64f4d",
        "colab": {
          "base_uri": "https://localhost:8080/",
          "height": 33
        }
      },
      "cell_type": "code",
      "source": [
        "#Saber só as chaves do meu dicionário\n",
        "tabela.keys()"
      ],
      "execution_count": 0,
      "outputs": [
        {
          "output_type": "execute_result",
          "data": {
            "text/plain": [
              "dict_keys(['Alface', 'Batata', 'Tomate', 'Feijão', 'Cebola'])"
            ]
          },
          "metadata": {
            "tags": []
          },
          "execution_count": 94
        }
      ]
    },
    {
      "metadata": {
        "id": "zmF0_gwCyii3",
        "colab_type": "code",
        "outputId": "0fa429e4-75c1-4082-da1f-cf20de517df0",
        "colab": {
          "base_uri": "https://localhost:8080/",
          "height": 33
        }
      },
      "cell_type": "code",
      "source": [
        "#Saber só as chaves do meu dicionário\n",
        "tabela.values()"
      ],
      "execution_count": 0,
      "outputs": [
        {
          "output_type": "execute_result",
          "data": {
            "text/plain": [
              "dict_values([0.45, 1.2, 2.5, 1.5, 1.2])"
            ]
          },
          "metadata": {
            "tags": []
          },
          "execution_count": 95
        }
      ]
    },
    {
      "metadata": {
        "id": "eZO9pVp1ymJw",
        "colab_type": "code",
        "outputId": "8662bf59-0149-4907-c67c-cf31fd24eb50",
        "colab": {
          "base_uri": "https://localhost:8080/",
          "height": 33
        }
      },
      "cell_type": "code",
      "source": [
        "#Para excluir\n",
        "del tabela[\"Tomate\"]\n",
        "tabela"
      ],
      "execution_count": 0,
      "outputs": [
        {
          "output_type": "execute_result",
          "data": {
            "text/plain": [
              "{'Alface': 0.45, 'Batata': 1.2, 'Cebola': 1.2, 'Feijão': 1.5}"
            ]
          },
          "metadata": {
            "tags": []
          },
          "execution_count": 99
        }
      ]
    },
    {
      "metadata": {
        "id": "Qpte4rDkzLvU",
        "colab_type": "text"
      },
      "cell_type": "markdown",
      "source": [
        "Mais legal é usar listas de listas de listas"
      ]
    },
    {
      "metadata": {
        "id": "GeEIPn2YzPBf",
        "colab_type": "code",
        "outputId": "cace2ec1-e0bb-4453-bb55-feac684ece8b",
        "colab": {
          "base_uri": "https://localhost:8080/",
          "height": 83
        }
      },
      "cell_type": "code",
      "source": [
        "estoque = {\"Alface\": [500 ,0.45], \n",
        "          \"Batata\": [2000, 1.20], \n",
        "          \"Tomate\": [1000, 2.30], \n",
        "          \"Feijão\": [100, 1.50]}\n",
        "estoque"
      ],
      "execution_count": 0,
      "outputs": [
        {
          "output_type": "execute_result",
          "data": {
            "text/plain": [
              "{'Alface': [500, 0.45],\n",
              " 'Batata': [2000, 1.2],\n",
              " 'Feijão': [100, 1.5],\n",
              " 'Tomate': [1000, 2.3]}"
            ]
          },
          "metadata": {
            "tags": []
          },
          "execution_count": 100
        }
      ]
    },
    {
      "metadata": {
        "id": "RqMtBySJzph6",
        "colab_type": "code",
        "outputId": "e7cb0303-b095-43e5-ae14-3ab7ae24841c",
        "colab": {
          "base_uri": "https://localhost:8080/",
          "height": 33
        }
      },
      "cell_type": "code",
      "source": [
        "estoque[\"Tomate\"]"
      ],
      "execution_count": 0,
      "outputs": [
        {
          "output_type": "execute_result",
          "data": {
            "text/plain": [
              "[1000, 2.3]"
            ]
          },
          "metadata": {
            "tags": []
          },
          "execution_count": 101
        }
      ]
    },
    {
      "metadata": {
        "id": "znpwrowoztEM",
        "colab_type": "code",
        "outputId": "98b7c3c1-0d8d-4302-83a5-d67aba003a17",
        "colab": {
          "base_uri": "https://localhost:8080/",
          "height": 50
        }
      },
      "cell_type": "code",
      "source": [
        "#Se eu quiser saber quantos tomates eu tenho\n",
        "print(estoque[\"Tomate\"][0])\n",
        "print(estoque[\"Tomate\"][1])"
      ],
      "execution_count": 0,
      "outputs": [
        {
          "output_type": "stream",
          "text": [
            "1000\n",
            "2.3\n"
          ],
          "name": "stdout"
        }
      ]
    },
    {
      "metadata": {
        "id": "4rDgu4ZD0BR7",
        "colab_type": "text"
      },
      "cell_type": "markdown",
      "source": [
        "Criar uma tabela de vendas com elemntos e a quantidade de venda desse elemento e baixar da tabela de estoque e dizer quanto deu a venda e qual o estoque disponível. Ex: Vendi 5 tomates e tem x no estoque."
      ]
    },
    {
      "metadata": {
        "id": "3dkg63c408F8",
        "colab_type": "code",
        "outputId": "3d80fb8c-d980-463e-91e4-7c86924978bd",
        "colab": {
          "base_uri": "https://localhost:8080/",
          "height": 102
        }
      },
      "cell_type": "code",
      "source": [
        "estoque = {\"Alface\": [500 ,0.45], \n",
        "          \"Batata\": [2000, 1.20], \n",
        "          \"Tomate\": [1000, 2.30], \n",
        "          \"Feijão\": [100, 1.50]}\n",
        "\n",
        "print(\"Digite o que você quer comprar: \")\n",
        "x = input()\n",
        "\n",
        "print(\"Digite a quantidade que você quer: \")\n",
        "z = input()\n",
        "y = int(z)\n",
        "\n",
        "quant = estoque[x][0]\n",
        "resto = quant - y\n",
        "venda = estoque[x][1]*y\n",
        "estoque[x][0]=resto\n",
        "print(\"O valor da compra deu R$%.2f e o estoque disponível de %s são %d unidades.\" %(venda,x,resto))"
      ],
      "execution_count": 0,
      "outputs": [
        {
          "output_type": "stream",
          "text": [
            "Digite o que você quer comprar: \n",
            "Tomate\n",
            "Digite a quantidade que você quer: \n",
            "5\n",
            "O valor da compra deu R$11.50 e o estoque disponível de Tomate são 995 unidades\n"
          ],
          "name": "stdout"
        }
      ]
    }
  ]
}